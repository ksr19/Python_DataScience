{
 "cells": [
  {
   "cell_type": "markdown",
   "metadata": {},
   "source": [
    "### Задание 1.\n",
    "\n",
    "Импортируйте библиотеку **Numpy** и дайте ей псевдоним **np**."
   ]
  },
  {
   "cell_type": "code",
   "execution_count": 1,
   "metadata": {},
   "outputs": [],
   "source": [
    "import numpy as np"
   ]
  },
  {
   "cell_type": "markdown",
   "metadata": {},
   "source": [
    "Создайте массив **Numpy** под названием **a** размером **5x2**, то есть состоящий из **5** строк и **2** столбцов. Первый столбец должен содержать числа **1, 2, 3, 3, 1**, а второй - числа **6, 8, 11, 10, 7**. Будем считать, что каждый столбец - это признак, а строка - наблюдение."
   ]
  },
  {
   "cell_type": "code",
   "execution_count": 2,
   "metadata": {},
   "outputs": [],
   "source": [
    "a = np.array([[ 1,  6],\n",
    "              [ 2,  8],\n",
    "              [ 3, 11],\n",
    "              [ 3, 10],\n",
    "              [ 1,  7]])"
   ]
  },
  {
   "cell_type": "markdown",
   "metadata": {},
   "source": [
    "Затем найдите среднее значение по каждому признаку, используя метод **mean** массива **Numpy**. Результат запишите в массив **mean_a**, в нем должно быть 2 элемента."
   ]
  },
  {
   "cell_type": "code",
   "execution_count": 3,
   "metadata": {},
   "outputs": [
    {
     "data": {
      "text/plain": [
       "array([2. , 8.4])"
      ]
     },
     "execution_count": 3,
     "metadata": {},
     "output_type": "execute_result"
    }
   ],
   "source": [
    "mean_a = a.mean(axis=0)\n",
    "mean_a"
   ]
  },
  {
   "cell_type": "markdown",
   "metadata": {},
   "source": [
    "### Задание 2\n",
    "\n",
    "Вычислите массив **a_centered**, отняв от значений массива **а** средние значения соответствующих признаков, содержащиеся в массиве **mean_a**. Вычисление должно производиться в одно действие. Получившийся массив должен иметь размер **5x2**."
   ]
  },
  {
   "cell_type": "code",
   "execution_count": 4,
   "metadata": {},
   "outputs": [
    {
     "data": {
      "text/plain": [
       "array([[-1. , -2.4],\n",
       "       [ 0. , -0.4],\n",
       "       [ 1. ,  2.6],\n",
       "       [ 1. ,  1.6],\n",
       "       [-1. , -1.4]])"
      ]
     },
     "execution_count": 4,
     "metadata": {},
     "output_type": "execute_result"
    }
   ],
   "source": [
    "a_centered = np.subtract(a, mean_a)\n",
    "a_centered"
   ]
  },
  {
   "cell_type": "markdown",
   "metadata": {},
   "source": [
    "### Задание 3\n",
    "Найдите скалярное произведение столбцов массива **a_centered**. В результате должна получиться величина **a_centered_sp**."
   ]
  },
  {
   "cell_type": "code",
   "execution_count": 5,
   "metadata": {},
   "outputs": [
    {
     "data": {
      "text/plain": [
       "8.0"
      ]
     },
     "execution_count": 5,
     "metadata": {},
     "output_type": "execute_result"
    }
   ],
   "source": [
    "a_centered_sp = a_centered[:, 0] @ a_centered[:, 1]\n",
    "a_centered_sp"
   ]
  },
  {
   "cell_type": "markdown",
   "metadata": {},
   "source": [
    "Затем поделите **a_centered_sp** на **N-1**, где **N** - число наблюдений."
   ]
  },
  {
   "cell_type": "code",
   "execution_count": 6,
   "metadata": {},
   "outputs": [
    {
     "data": {
      "text/plain": [
       "2.0"
      ]
     },
     "execution_count": 6,
     "metadata": {},
     "output_type": "execute_result"
    }
   ],
   "source": [
    "N = np.size(a, 0)\n",
    "a_centered_sp / (N - 1)"
   ]
  },
  {
   "cell_type": "markdown",
   "metadata": {},
   "source": [
    "### Задание 4**\n",
    "Число, которое мы получили в конце _задания 3_ является ковариацией двух признаков, содержащихся в массиве **а**. В _задании 3_ мы делили сумму произведений центрированных признаков на **N-1**, а не на **N**, поэтому полученная нами величина является несмещенной оценкой ковариации."
   ]
  },
  {
   "cell_type": "markdown",
   "metadata": {},
   "source": [
    "Подробнее узнать о ковариации можно здесь:\n",
    "https://studopedia.ru/9_153900_viborochnaya-kovariatsiya-i-viborochnaya-dispersiya.html"
   ]
  },
  {
   "cell_type": "markdown",
   "metadata": {},
   "source": [
    "В этом задании проверьте получившееся число, вычислив ковариацию еще одним способом - с помощью функции **np.cov**. В качестве аргумента **m** функция **np.cov** должна принимать транспонированный массив **a**. В получившейся ковариационной матрице (массив **Numpy** размером **2x2**) искомое значение ковариации будет равно элементу в строке с индексом **0** и столбце с индексом **1**."
   ]
  },
  {
   "cell_type": "code",
   "execution_count": 7,
   "metadata": {},
   "outputs": [
    {
     "data": {
      "text/plain": [
       "2.0"
      ]
     },
     "execution_count": 7,
     "metadata": {},
     "output_type": "execute_result"
    }
   ],
   "source": [
    "b = np.cov(a.T)\n",
    "b[0, 1]"
   ]
  },
  {
   "cell_type": "markdown",
   "metadata": {},
   "source": [
    "### Задание 5**\n",
    "Создайте одномерный массив **z** случайных  целых чисел из равномерного распределения от **-50** до **50** включительно размерности **8**."
   ]
  },
  {
   "cell_type": "code",
   "execution_count": 8,
   "metadata": {},
   "outputs": [
    {
     "data": {
      "text/plain": [
       "array([ 41,  36, -49,  11, -30, -41,  24,  -7])"
      ]
     },
     "execution_count": 8,
     "metadata": {},
     "output_type": "execute_result"
    }
   ],
   "source": [
    "z = np.random.randint(-50, 51, 8)\n",
    "z"
   ]
  },
  {
   "cell_type": "markdown",
   "metadata": {},
   "source": [
    "Найдите индексы положительных объектов."
   ]
  },
  {
   "cell_type": "code",
   "execution_count": 9,
   "metadata": {},
   "outputs": [
    {
     "data": {
      "text/plain": [
       "(array([0, 1, 3, 6]),)"
      ]
     },
     "execution_count": 9,
     "metadata": {},
     "output_type": "execute_result"
    }
   ],
   "source": [
    "np.where(z > 0)"
   ]
  },
  {
   "cell_type": "markdown",
   "metadata": {},
   "source": [
    "### Задание 6**\n",
    "Создайте двумерный массив **X** случайных равномерно распределенных целых чисел от **0** до **255** включительно размерности **10** на **5**. (Здесь снова считаем, что каждый столбец - это признак, а строка - наблюдение.)"
   ]
  },
  {
   "cell_type": "code",
   "execution_count": 10,
   "metadata": {},
   "outputs": [
    {
     "data": {
      "text/plain": [
       "array([[249, 252, 136, 125, 202],\n",
       "       [106, 110, 174, 170, 146],\n",
       "       [ 88, 132, 183,  83, 238],\n",
       "       [ 70, 217,  26, 253,  92],\n",
       "       [186, 173,  19,  70, 138],\n",
       "       [238, 122, 200,  39, 168],\n",
       "       [218,  87, 140, 243, 233],\n",
       "       [248, 229, 147, 123,  11],\n",
       "       [ 11, 118, 234, 106,  10],\n",
       "       [235,  34, 219, 214,  39]])"
      ]
     },
     "execution_count": 10,
     "metadata": {},
     "output_type": "execute_result"
    }
   ],
   "source": [
    "X = np.random.randint(0, 256, (10, 5))\n",
    "X"
   ]
  },
  {
   "cell_type": "markdown",
   "metadata": {},
   "source": [
    "Найдите среднее значение и стандартное отклонение по каждому признаку."
   ]
  },
  {
   "cell_type": "code",
   "execution_count": 11,
   "metadata": {},
   "outputs": [
    {
     "data": {
      "text/plain": [
       "array([164.9, 147.4, 147.8, 142.6, 127.7])"
      ]
     },
     "execution_count": 11,
     "metadata": {},
     "output_type": "execute_result"
    }
   ],
   "source": [
    "mean_feature = X.mean(axis=0)\n",
    "mean_feature"
   ]
  },
  {
   "cell_type": "code",
   "execution_count": 12,
   "metadata": {},
   "outputs": [
    {
     "data": {
      "text/plain": [
       "array([83.41156994, 65.38531945, 69.83953035, 70.5027659 , 82.13044502])"
      ]
     },
     "execution_count": 12,
     "metadata": {},
     "output_type": "execute_result"
    }
   ],
   "source": [
    "std_feature = X.std(axis=0)\n",
    "std_feature"
   ]
  },
  {
   "cell_type": "markdown",
   "metadata": {},
   "source": [
    "Вычислите массив **X_standard**, отняв от каждого признака среднее и поделив на стандартное отклонение."
   ]
  },
  {
   "cell_type": "code",
   "execution_count": 13,
   "metadata": {},
   "outputs": [
    {
     "data": {
      "text/plain": [
       "array([[ 1.00825341,  1.59974748, -0.16895875, -0.2496356 ,  0.90465844],\n",
       "       [-0.70613705, -0.57199384,  0.37514571,  0.38863723,  0.22281628],\n",
       "       [-0.92193445, -0.23552688,  0.50401255, -0.84535691,  1.34298554],\n",
       "       [-1.13773185,  1.06445913, -1.74399798,  1.56589601, -0.43467438],\n",
       "       [ 0.25296251,  0.3915252 , -1.84422775, -1.02974683,  0.12541025],\n",
       "       [ 0.87637722, -0.38846641,  0.74742771, -1.4694459 ,  0.49068284],\n",
       "       [ 0.63660233, -0.92375476, -0.1116846 ,  1.42405761,  1.28210677],\n",
       "       [ 0.99626467,  1.24798656, -0.01145483, -0.27800328, -1.42091036],\n",
       "       [-1.84506778, -0.44964222,  1.23425801, -0.51912857, -1.43308611],\n",
       "       [ 0.84041099, -1.73433427,  1.01947994,  1.01272623, -1.07998928]])"
      ]
     },
     "execution_count": 13,
     "metadata": {},
     "output_type": "execute_result"
    }
   ],
   "source": [
    "X_standard = (X - mean_feature) / std_feature\n",
    "X_standard"
   ]
  },
  {
   "cell_type": "markdown",
   "metadata": {},
   "source": [
    "Убедитесь, что теперь среднее в каждом признаке стало равное нулю, а стандартное отклонение равно единице. Это называется стандартизация данных - важный процесс подготовки данных. Более подробно можно почитать здесь (https://wiki.loginom.ru/articles/data-standartization.html)"
   ]
  },
  {
   "cell_type": "code",
   "execution_count": 14,
   "metadata": {},
   "outputs": [
    {
     "data": {
      "text/plain": [
       "array([-6.66133815e-17, -1.11022302e-16, -1.33226763e-16,  8.88178420e-17,\n",
       "        2.22044605e-17])"
      ]
     },
     "execution_count": 14,
     "metadata": {},
     "output_type": "execute_result"
    }
   ],
   "source": [
    "X_standard.mean(axis=0)"
   ]
  },
  {
   "cell_type": "code",
   "execution_count": 15,
   "metadata": {},
   "outputs": [
    {
     "data": {
      "text/plain": [
       "array([1., 1., 1., 1., 1.])"
      ]
     },
     "execution_count": 15,
     "metadata": {},
     "output_type": "execute_result"
    }
   ],
   "source": [
    "X_standard.std(axis=0)"
   ]
  },
  {
   "cell_type": "markdown",
   "metadata": {},
   "source": [
    "### Задание 7**\n",
    "Создайте два одномерных массива размерности **512** с любыми значениями. Будем считать, что каждый массив - это наблюдение с **512** признаками. "
   ]
  },
  {
   "cell_type": "code",
   "execution_count": 16,
   "metadata": {
    "scrolled": false
   },
   "outputs": [],
   "source": [
    "a = np.random.randn(512)\n",
    "b = np.random.randn(512)"
   ]
  },
  {
   "cell_type": "code",
   "execution_count": 17,
   "metadata": {},
   "outputs": [
    {
     "data": {
      "text/plain": [
       "array([-0.3633831 ,  1.40331388, -1.01708801, -0.30622095, -0.37174227])"
      ]
     },
     "execution_count": 17,
     "metadata": {},
     "output_type": "execute_result"
    }
   ],
   "source": [
    "a[:5]"
   ]
  },
  {
   "cell_type": "code",
   "execution_count": 18,
   "metadata": {},
   "outputs": [
    {
     "data": {
      "text/plain": [
       "array([ 0.71498325,  1.32861814,  0.58433713, -0.01455442,  0.53474397])"
      ]
     },
     "execution_count": 18,
     "metadata": {},
     "output_type": "execute_result"
    }
   ],
   "source": [
    "b[:5]"
   ]
  },
  {
   "cell_type": "markdown",
   "metadata": {},
   "source": [
    "Найдите разницу между двумя массивами. Далее возведите разницу в квадрат, просуммируйте все элементы нового массива и возьмите корень квадратный.\n",
    "Это получилась **L2-норма** (Евклидова метрика) — функция расстояния, благодаря которой можно считать насколько далеки точки друг от друга, насколько они похожи друг на друга. Более подробно здесь (https://wiki.loginom.ru/articles/euclid-distance.html)"
   ]
  },
  {
   "cell_type": "code",
   "execution_count": 19,
   "metadata": {},
   "outputs": [
    {
     "data": {
      "text/plain": [
       "array([-1.07836634,  0.07469574, -1.60142514, -0.29166653, -0.90648624])"
      ]
     },
     "execution_count": 19,
     "metadata": {},
     "output_type": "execute_result"
    }
   ],
   "source": [
    "d = a - b\n",
    "d[:5]"
   ]
  },
  {
   "cell_type": "code",
   "execution_count": 20,
   "metadata": {},
   "outputs": [
    {
     "data": {
      "text/plain": [
       "31.700018696435542"
      ]
     },
     "execution_count": 20,
     "metadata": {},
     "output_type": "execute_result"
    }
   ],
   "source": [
    "np.sqrt((d**2).sum())"
   ]
  },
  {
   "cell_type": "markdown",
   "metadata": {},
   "source": [
    "Посчитайте **L2 норму** для этих двух массивов с помощью _numpy.linalg_."
   ]
  },
  {
   "cell_type": "code",
   "execution_count": 21,
   "metadata": {},
   "outputs": [
    {
     "data": {
      "text/plain": [
       "31.70001869643554"
      ]
     },
     "execution_count": 21,
     "metadata": {},
     "output_type": "execute_result"
    }
   ],
   "source": [
    "np.linalg.norm(a - b)"
   ]
  },
  {
   "cell_type": "markdown",
   "metadata": {},
   "source": [
    "### Задание 8**\n",
    "Используйте ранее созданный массив **X**. Найдите минимальное значение и максимальное по каждому признаку."
   ]
  },
  {
   "cell_type": "code",
   "execution_count": 22,
   "metadata": {},
   "outputs": [
    {
     "data": {
      "text/plain": [
       "array([11, 34, 19, 39, 10])"
      ]
     },
     "execution_count": 22,
     "metadata": {},
     "output_type": "execute_result"
    }
   ],
   "source": [
    "X.min(axis=0)"
   ]
  },
  {
   "cell_type": "code",
   "execution_count": 23,
   "metadata": {},
   "outputs": [
    {
     "data": {
      "text/plain": [
       "array([249, 252, 234, 253, 238])"
      ]
     },
     "execution_count": 23,
     "metadata": {},
     "output_type": "execute_result"
    }
   ],
   "source": [
    "X.max(axis=0)"
   ]
  },
  {
   "cell_type": "markdown",
   "metadata": {},
   "source": [
    "Вычислите массив **X_norm**, отняв от каждого признака минимальное и поделив на разницу максимального и минимального."
   ]
  },
  {
   "cell_type": "code",
   "execution_count": 24,
   "metadata": {},
   "outputs": [
    {
     "data": {
      "text/plain": [
       "array([[1.        , 1.        , 0.54418605, 0.40186916, 0.84210526],\n",
       "       [0.39915966, 0.34862385, 0.72093023, 0.61214953, 0.59649123],\n",
       "       [0.32352941, 0.44954128, 0.7627907 , 0.20560748, 1.        ],\n",
       "       [0.24789916, 0.83944954, 0.03255814, 1.        , 0.35964912],\n",
       "       [0.73529412, 0.63761468, 0.        , 0.14485981, 0.56140351],\n",
       "       [0.95378151, 0.40366972, 0.84186047, 0.        , 0.69298246],\n",
       "       [0.8697479 , 0.24311927, 0.5627907 , 0.95327103, 0.97807018],\n",
       "       [0.99579832, 0.89449541, 0.59534884, 0.39252336, 0.00438596],\n",
       "       [0.        , 0.3853211 , 1.        , 0.31308411, 0.        ],\n",
       "       [0.94117647, 0.        , 0.93023256, 0.81775701, 0.12719298]])"
      ]
     },
     "execution_count": 24,
     "metadata": {},
     "output_type": "execute_result"
    }
   ],
   "source": [
    "X_norm = (X - X.min(axis=0)) / (X.max(axis=0) - X.min(axis=0))\n",
    "X_norm"
   ]
  },
  {
   "cell_type": "markdown",
   "metadata": {},
   "source": [
    "Убедитесь, что теперь минимальное значение стало равно **0**, а максимальное - **1**.\n",
    "Это называется нормализация данных - еще один из важных процессов подготовки данных. Более подробно здесь (https://wiki.loginom.ru/articles/data-normalization.html)"
   ]
  },
  {
   "cell_type": "code",
   "execution_count": 25,
   "metadata": {},
   "outputs": [
    {
     "data": {
      "text/plain": [
       "array([0., 0., 0., 0., 0.])"
      ]
     },
     "execution_count": 25,
     "metadata": {},
     "output_type": "execute_result"
    }
   ],
   "source": [
    "X_norm.min(axis=0)"
   ]
  },
  {
   "cell_type": "code",
   "execution_count": 26,
   "metadata": {},
   "outputs": [
    {
     "data": {
      "text/plain": [
       "array([1., 1., 1., 1., 1.])"
      ]
     },
     "execution_count": 26,
     "metadata": {},
     "output_type": "execute_result"
    }
   ],
   "source": [
    "X_norm.max(axis=0)"
   ]
  }
 ],
 "metadata": {
  "kernelspec": {
   "display_name": "Python 3",
   "language": "python",
   "name": "python3"
  },
  "language_info": {
   "codemirror_mode": {
    "name": "ipython",
    "version": 3
   },
   "file_extension": ".py",
   "mimetype": "text/x-python",
   "name": "python",
   "nbconvert_exporter": "python",
   "pygments_lexer": "ipython3",
   "version": "3.8.6"
  }
 },
 "nbformat": 4,
 "nbformat_minor": 4
}
